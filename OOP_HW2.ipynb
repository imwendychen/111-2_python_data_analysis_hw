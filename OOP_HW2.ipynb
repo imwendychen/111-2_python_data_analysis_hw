{
 "cells": [
  {
   "cell_type": "code",
   "execution_count": 38,
   "metadata": {},
   "outputs": [
    {
     "name": "stdout",
     "output_type": "stream",
     "text": [
      "Enter a positive integer:20\n",
      "[2, 3, 5, 7, 11, 13, 17, 19]\n"
     ]
    }
   ],
   "source": [
    "#q1\n",
    "#Write a program that prompts the user to input a positive integer n, \n",
    "#finds all prime numbers between 1 and n, where prime numbers are positive integers \n",
    "#that can only be divided by 1 and themselves, stores these prime numbers in a list, \n",
    "#and finally returns this list. The program should interact with the user as follows:\n",
    "\n",
    "integer = int(input(\"Enter a positive integer>\"))\n",
    "prime=[]\n",
    "i=2\n",
    "j=1\n",
    "for i in range(2,integer+1):\n",
    "    prime.append(i)\n",
    "    for j in range(1,integer+1):\n",
    "        x=i/j\n",
    "        if ((x == int(x))&(x!=i)&(x!=1)):\n",
    "            prime.remove(i)\n",
    "            break\n",
    "        j+=1\n",
    "i+=1\n",
    "print(prime)\n"
   ]
  },
  {
   "cell_type": "code",
   "execution_count": 56,
   "metadata": {},
   "outputs": [
    {
     "name": "stdout",
     "output_type": "stream",
     "text": [
      "Enter numbers seperated by commas:10,20,30\n",
      "[10, 20, 30]\n",
      "Factors of: 10 [1, 2, 5, 10]\n",
      "The sum of factors of 10 : 18\n",
      "Factors of: 20 [1, 2, 4, 5, 10, 20]\n",
      "The sum of factors of 20 : 42\n",
      "Factors of: 30 [1, 2, 3, 5, 6, 10, 15, 30]\n",
      "The sum of factors of 30 : 72\n"
     ]
    }
   ],
   "source": [
    "#q2\n",
    "#Write a program that allows the user to input multiple integers separated by commas(,), \n",
    "#put all the factors of each integer into a list, print out the list, and then calculate \n",
    "#the sum of the factors of each integer. The program should interact with the user as follows:\n",
    "\n",
    "nums=list(map(int, input(\"Enter numbers seperated by commas>\").split(',')))\n",
    "print(nums)\n",
    "fac=[]\n",
    "for i in range(len(nums)):\n",
    "\n",
    "    for j in range(1,nums[i]+1):\n",
    "        x=nums[i]/j\n",
    "        if(x==int(x)):\n",
    "            fac.append(j)\n",
    "    print(\"Factors of:\",nums[i],fac)\n",
    "    print(\"The sum of factors of\",nums[i],\":\",sum(fac))\n",
    "    fac=[]"
   ]
  },
  {
   "cell_type": "code",
   "execution_count": 84,
   "metadata": {},
   "outputs": [
    {
     "name": "stdout",
     "output_type": "stream",
     "text": [
      "Enter the string>hello world, hello python\n",
      "Enter the substring>hello\n",
      "The number of time(s) the substring appear in the string is: 2 time(s).\n"
     ]
    }
   ],
   "source": [
    "#q3\n",
    "#Write a program that allows the user to input a string and a substring, \n",
    "#and uses a while loop to count the number of occurrences of the substring in the string. \n",
    "#The program should interact with the user as follows:\n",
    "\n",
    "string=list((input(\"Enter the string>\")).split(\" \"))\n",
    "sub_str=input(\"Enter the substring>\")\n",
    "n=len(string)\n",
    "i=0\n",
    "times=0\n",
    "string[0]\n",
    "while i < n:\n",
    "    if(string[i]==sub_str):\n",
    "        times+=1\n",
    "    i+=1\n",
    "print(\"\\n\\nThe number of time(s) the substring appear in the string is\",times,\"time(s).\")\n"
   ]
  },
  {
   "cell_type": "code",
   "execution_count": null,
   "metadata": {},
   "outputs": [],
   "source": [
    "#q4\n",
    "#Use loop to write a program to print a Sandglass pattern of star. \n",
    "#The program should interact with the user as follows to let the user enter the height of the pattern:\n",
    "\n",
    "star_height=int(input(\"Enter height>\"))\n",
    "\n",
    "for i in range(star_height+1):\n",
    "    if(i==star_height-1):\n",
    "        print(\" \"*i+\"* \",end=\"\")\n",
    "    else:\n",
    "        print(\" \"*i+\"* \"*(star_height-i))\n",
    "\n",
    "for i in range(star_height-1, -1, -1):\n",
    "    for j in range(0, i):\n",
    "        print(end=' ')\n",
    "    for k in range(i, star_height):\n",
    "        print(\"* \",end='')\n",
    "    print()\n"
   ]
  },
  {
   "cell_type": "code",
   "execution_count": null,
   "metadata": {},
   "outputs": [],
   "source": [
    "#q5\n",
    "#Write a program that prompts the user to input two years, \n",
    "#then calculates how many leap years there should be in the area, and finally outputs the result. \n",
    "#The conditions for judging a leap year are as follows:\n",
    "\n",
    "#I. If the year is divisible by 4 but not by 100, then it is a leap year.\n",
    "#II. If the year is divisible by 400, it is also a leap year.\n",
    "#III. If the year is neither divisible by 4 nor by 400, then it is not a leap year.\n",
    "\n",
    "\n",
    "s_yr = int(input(\"Please enter the start year>\"))\n",
    "e_yr = int(input(\"Please enter the end year>\"))\n",
    "\n",
    "noy = 0\n",
    "\n",
    "for i in range(s_yr, e_yr+1):\n",
    "    if(i%400==0):\n",
    "        noy+=1\n",
    "    elif((i%4==0)&(i%25!=0)):\n",
    "        noy+=1\n",
    "\n",
    "print(\"Between\",s_yr,\"to\",e_yr,\",there is(are)\",noy,\"leap year(s).\")"
   ]
  },
  {
   "cell_type": "code",
   "execution_count": null,
   "metadata": {},
   "outputs": [],
   "source": [
    "   "
   ]
  },
  {
   "cell_type": "code",
   "execution_count": null,
   "metadata": {},
   "outputs": [],
   "source": [
    "\n"
   ]
  },
  {
   "cell_type": "code",
   "execution_count": null,
   "metadata": {},
   "outputs": [],
   "source": []
  }
 ],
 "metadata": {
  "kernelspec": {
   "display_name": "Python 3",
   "language": "python",
   "name": "python3"
  },
  "language_info": {
   "codemirror_mode": {
    "name": "ipython",
    "version": 3
   },
   "file_extension": ".py",
   "mimetype": "text/x-python",
   "name": "python",
   "nbconvert_exporter": "python",
   "pygments_lexer": "ipython3",
   "version": "3.8.3"
  }
 },
 "nbformat": 4,
 "nbformat_minor": 4
}
