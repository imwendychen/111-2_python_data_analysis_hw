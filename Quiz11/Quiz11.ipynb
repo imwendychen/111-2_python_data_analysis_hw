{
 "cells": [
  {
   "cell_type": "code",
   "execution_count": 1,
   "id": "72fecdf8",
   "metadata": {},
   "outputs": [],
   "source": [
    "import pandas as pd\n",
    "import numpy as np\n",
    "import matplotlib.pyplot as plt\n",
    "%matplotlib inline\n",
    "from sklearn import preprocessing"
   ]
  },
  {
   "cell_type": "code",
   "execution_count": 2,
   "id": "0e744afd",
   "metadata": {
    "scrolled": true
   },
   "outputs": [
    {
     "name": "stdout",
     "output_type": "stream",
     "text": [
      "df: 891\n",
      "train_df: 714\n",
      "test_df: 177\n"
     ]
    }
   ],
   "source": [
    "#第一部分\n",
    "\n",
    "#考試填空部分ーーーーーーーーーーーーーーーーーーーーーーーーーーーーーーーーーーーーーーーーーーーーーーーーーー\n",
    "df = pd.read_csv('titanic.csv')\n",
    "msk = np.random.rand(len(df)) < 0.8\n",
    "train_df = df[msk]\n",
    "test_df = df[~msk]\n",
    "#考試填空部分ーーーーーーーーーーーーーーーーーーーーーーーーーーーーーーーーーーーーーーーーーーーーーーーーーー\n",
    "\n",
    "print('df:',len(df))\n",
    "print('train_df:',len(train_df))\n",
    "print('test_df:',len(test_df))"
   ]
  },
  {
   "cell_type": "code",
   "execution_count": 3,
   "id": "f01cf231",
   "metadata": {},
   "outputs": [],
   "source": [
    "def PreprocessData(raw_df):\n",
    "    \n",
    "    #第二部分\n",
    "    #考試填空部分ーーーーーーーーーーーーーーーーーーーーーーーーーーーーーーーーーーーーーーーーーーーーーーーーーーー\n",
    "    df=raw_df.drop(['PassengerId','Name','Ticket','Cabin'], axis=1)\n",
    "    age_mean = df['Age'].mean()\n",
    "    df['Age'] = df['Age'].fillna(age_mean)\n",
    "    fare_mean = df['Fare'].mean()\n",
    "    df['Fare'] = df['Fare'].fillna(fare_mean)\n",
    "    df['Sex']= df['Sex'].map({'female':0, 'male': 1}).astype(int)\n",
    "    x_OneHot_df = pd.get_dummies(data=df,columns=[\"Embarked\" ])\n",
    "    #考試填空部分ーーーーーーーーーーーーーーーーーーーーーーーーーーーーーーーーーーーーーーーーーーーーーーーーーーー    \n",
    "\n",
    "    ndarray = x_OneHot_df.values\n",
    "    Features = ndarray[:,1:].astype(np.int_)\n",
    "    Label = ndarray[:,0].astype(np.int_)\n",
    "    print('ndarray ',ndarray.shape)\n",
    "    print('Features ',Features.shape)\n",
    "    print('Label ',Label.shape)\n",
    "    minmax_scale = preprocessing.MinMaxScaler(feature_range=(0, 1))\n",
    "    scaledFeatures=minmax_scale.fit_transform(Features).astype(np.int_)\n",
    "    print(x_OneHot_df.head(2))\n",
    "    print(\"ーーーーーーーーーーーーーーーーーーーーーーーーーーーーーーーーーーーーーーーーーーーーーーーーーーーーーーーーーーー\")\n",
    "    return scaledFeatures,Label"
   ]
  },
  {
   "cell_type": "code",
   "execution_count": 4,
   "id": "6da300a1",
   "metadata": {},
   "outputs": [
    {
     "name": "stdout",
     "output_type": "stream",
     "text": [
      "train_df\n",
      "ndarray  (714, 10)\n",
      "Features  (714, 9)\n",
      "Label  (714,)\n",
      "   Survived  Pclass  Sex   Age  SibSp  Parch     Fare  Embarked_C  Embarked_Q   \n",
      "1         1       1    0  38.0      1      0  71.2833        True       False  \\\n",
      "2         1       3    0  26.0      0      0   7.9250       False       False   \n",
      "\n",
      "   Embarked_S  \n",
      "1       False  \n",
      "2        True  \n",
      "ーーーーーーーーーーーーーーーーーーーーーーーーーーーーーーーーーーーーーーーーーーーーーーーーーーーーーーーーーーー\n",
      "test_df\n",
      "ndarray  (177, 10)\n",
      "Features  (177, 9)\n",
      "Label  (177,)\n",
      "   Survived  Pclass  Sex        Age  SibSp  Parch    Fare  Embarked_C   \n",
      "0         0       3    1  22.000000      1      0  7.2500       False  \\\n",
      "5         0       3    1  29.937826      0      0  8.4583       False   \n",
      "\n",
      "   Embarked_Q  Embarked_S  \n",
      "0       False        True  \n",
      "5        True       False  \n",
      "ーーーーーーーーーーーーーーーーーーーーーーーーーーーーーーーーーーーーーーーーーーーーーーーーーーーーーーーーーーー\n"
     ]
    }
   ],
   "source": [
    "print(\"train_df\")\n",
    "train_Features,train_Label=PreprocessData(train_df)\n",
    "print(\"test_df\")\n",
    "test_Features,test_Label=PreprocessData(test_df)"
   ]
  },
  {
   "cell_type": "code",
   "execution_count": null,
   "id": "0156537f",
   "metadata": {},
   "outputs": [],
   "source": []
  }
 ],
 "metadata": {
  "kernelspec": {
   "display_name": "Python 3 (ipykernel)",
   "language": "python",
   "name": "python3"
  },
  "language_info": {
   "codemirror_mode": {
    "name": "ipython",
    "version": 3
   },
   "file_extension": ".py",
   "mimetype": "text/x-python",
   "name": "python",
   "nbconvert_exporter": "python",
   "pygments_lexer": "ipython3",
   "version": "3.10.10"
  }
 },
 "nbformat": 4,
 "nbformat_minor": 5
}
