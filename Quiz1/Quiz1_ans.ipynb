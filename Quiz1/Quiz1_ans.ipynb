{
 "cells": [
  {
   "cell_type": "code",
   "execution_count": 1,
   "metadata": {},
   "outputs": [
    {
     "name": "stdout",
     "output_type": "stream",
     "text": [
      "List(1~20):[1, 2, 3, 4, 5, 6, 7, 8, 9, 10, 11, 12, 13, 14, 15, 16, 17, 18, 19, 20]，總共20項元素.\n",
      "List(除以3餘0:[3, 6, 9, 12, 15, 18]，總共6項元素.\n",
      "List(除以3餘1:[1, 4, 7, 10, 13, 16, 19]，總共7項元素.\n",
      "List(除以3餘2:[2, 5, 8, 11, 14, 17, 20]，總共7項元素.\n",
      "合併後輸出: [3, 6, 9, 12, 15, 18, 1, 4, 7, 10, 13, 16, 19, 2, 5, 8, 11, 14, 17, 20]\n"
     ]
    }
   ],
   "source": [
    "n=int(input(\"請輸入有多少個元素(n): \"))\n",
    "y=int(input(\"請輸入除數(y): \"))\n",
    "all=[element+1 for element in range(n)]\n",
    "sum=[]\n",
    "\n",
    "print(\"List(1~{}):{}，總共{}項元素.\".format(n,all,len(all)))\n",
    "\n",
    "for i in range(y):\n",
    "    temp=[]\n",
    "    for element in all:\n",
    "        if element % y == i:\n",
    "            temp.append(element)\n",
    "    sum+=temp\n",
    "    print(\"List(除以{}餘{}:{}，總共{}項元素.\".format(y,i,temp,len(temp)))\n",
    "    \n",
    "print(\"合併後輸出:\",sum)"
   ]
  }
 ],
 "metadata": {
  "kernelspec": {
   "display_name": "advanceML",
   "language": "python",
   "name": "python3"
  },
  "language_info": {
   "codemirror_mode": {
    "name": "ipython",
    "version": 3
   },
   "file_extension": ".py",
   "mimetype": "text/x-python",
   "name": "python",
   "nbconvert_exporter": "python",
   "pygments_lexer": "ipython3",
   "version": "3.7.16"
  },
  "orig_nbformat": 4
 },
 "nbformat": 4,
 "nbformat_minor": 2
}
