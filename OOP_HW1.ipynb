{
 "cells": [
  {
   "cell_type": "code",
   "execution_count": 23,
   "metadata": {},
   "outputs": [
    {
     "name": "stdout",
     "output_type": "stream",
     "text": [
      "Enter course name:oop\n",
      "Enter minimum average required:50\n",
      "Enter current average in course:50\n",
      "Enter how much the final counts as a percentage of the course grade:20\n",
      "You need a score of 50.0 on the final to pass oop .\n"
     ]
    }
   ],
   "source": [
    "#Q1\n",
    "#Write a program that predicts the score needed on a final exam to pass the course. \n",
    "#The program should interact with the user as follows:\n",
    "course_name = input(\"Enter course name:\")\n",
    "min_avg_req = float(input(\"Enter minimum average required:\"))\n",
    "curr_avg = float(input(\"Enter current average in course:\"))\n",
    "final_per_grade = float(input(\"Enter how much the final counts as a percentage of the course grade:\"))\n",
    "x=round((min_avg_req-((1-(final_per_grade/100))*curr_avg))/(final_per_grade/100),3)\n",
    "print(\"You need a score of\",x,\"on the final to pass\",course_name,\".\")"
   ]
  },
  {
   "cell_type": "code",
   "execution_count": 22,
   "metadata": {},
   "outputs": [
    {
     "name": "stdout",
     "output_type": "stream",
     "text": [
      "Enter a string:Doge to the moon!\n",
      "The first word is' Doge 'with length 4 .\n",
      "The last word is' moon! 'with length 5 .\n"
     ]
    }
   ],
   "source": [
    "#Q2\n",
    "#Given a string consisting of words and spaces, \n",
    "#return the length of the first and last word in the string. \n",
    "#The program should interact with the user as follows:\n",
    "string = input(\"Enter a string:\")\n",
    "n = string.rfind(\" \")\n",
    "x = string.split()\n",
    "print(\"The first word is'\",x[0],\"'with length\",len(x[0]),\".\")\n",
    "print(\"The last word is'\",x[len(x)-1],\"'with length\",len(x[len(x)-1]),\".\")\n"
   ]
  },
  {
   "cell_type": "code",
   "execution_count": 10,
   "metadata": {},
   "outputs": [
    {
     "name": "stdout",
     "output_type": "stream",
     "text": [
      "Add 7000 after 6000: [10, 20, [300, 400, [5000, 6000, 7000], 500], 40, 30]\n",
      "Add  600 before  500: [10, 20, [300, 400, [5000, 6000, 7000], 600, 500], 40, 30]\n"
     ]
    }
   ],
   "source": [
    "#Q3\n",
    "#Write a program to add item in the following Python List. \n",
    "#You have to reproduce the same list by yourself. They will look like the following lists.\n",
    "list = [10, 20, [300, 400, [5000, 6000], 500], 40, 30]\n",
    "list[2][2].append(7000)\n",
    "print(\"Add 7000 after 6000:\",list)\n",
    "list[2].append(600)\n",
    "x = list[2][4]\n",
    "y = list[2][3]\n",
    "list[2][3]=x\n",
    "list[2][4]=y\n",
    "print(\"Add  600 before  500:\",list)"
   ]
  },
  {
   "cell_type": "code",
   "execution_count": 15,
   "metadata": {},
   "outputs": [
    {
     "name": "stdout",
     "output_type": "stream",
     "text": [
      "New list 1: ['a', 'b', ['c', ['d', 'e', ['f', 'g', 'h', 'i', 'j'], 'k'], 'l'], 'm', 'n']\n",
      "new list1: ['a', 'b', ['c', ['d', 'e', ['f', 'g', 'h', 'i', 'j'], 'k'], 'l'], 'm', 'n']\n",
      "new list2: ['a', 'b', ['c', ['d', 'e', ['f', 'g', ['h', 'i', 'j']], 'k'], 'l'], 'm', 'n']\n"
     ]
    }
   ],
   "source": [
    "#Q4\n",
    "#Write a program to add sublist in a nested list.\n",
    "#You have to reproduce the same nested list and sublist by yourself. \n",
    "#They will look like the following lists.\n",
    "or_list = ['a', 'b', ['c', ['d', 'e', ['f', 'g'], 'k'], 'l'], 'm', 'n']\n",
    "sub_list = ['h', 'i', 'j']\n",
    "\n",
    "list1=['a', 'b', ['c', ['d', 'e', ['f', 'g'], 'k'], 'l'], 'm', 'n']\n",
    "list1[2][1][2].extend(sub_list)\n",
    "\n",
    "\n",
    "list2=['a', 'b', ['c', ['d', 'e', ['f', 'g'], 'k'], 'l'], 'm', 'n']\n",
    "list2[2][1][2].append(sub_list)\n",
    "\n",
    "print(\"new list1:\", list1)\n",
    "print(\"new list2:\", list2)"
   ]
  },
  {
   "cell_type": "code",
   "execution_count": 26,
   "metadata": {},
   "outputs": [
    {
     "name": "stdout",
     "output_type": "stream",
     "text": [
      "Enter number of people:3\n",
      "Enter your name: boowuh\n",
      "Enter your height in centimeters: 180\n",
      "Enter your weight in kilograms: 78\n",
      "All data: [['Boowuh', 180.0, 78.0]]\n",
      "Enter your name: hih\n",
      "Enter your height in centimeters: 180\n",
      "Enter your weight in kilograms: 78\n",
      "All data: [['Boowuh', 180.0, 78.0], ['Hih', 180.0, 78.0]]\n",
      "Enter your name: hukh\n",
      "Enter your height in centimeters: 180\n",
      "Enter your weight in kilograms: 78\n",
      "All data: [['Boowuh', 180.0, 78.0], ['Hih', 180.0, 78.0], ['Hukh', 180.0, 78.0]]\n",
      "=====================================\n",
      "Boowuh's BMI is24.1\n",
      "\n",
      "\n",
      "Boowuh maintains optimal body weight.\n",
      "\n",
      "\n",
      "Hih's BMI is24.1\n",
      "\n",
      "\n",
      "Hih maintains optimal body weight.\n",
      "\n",
      "\n",
      "Hukh's BMI is24.1\n",
      "\n",
      "\n",
      "Hukh maintains optimal body weight.\n",
      "\n",
      "\n"
     ]
    }
   ],
   "source": [
    "#Q5\n",
    "#Write a program to calculate BMI and print message of each person. There are three fields (name, height and weight) for user to input. You have to capitalize the first letter of each word in the name string and lowercase the rest. \n",
    "#After completing the input, save information in nested list and print all data including previous input. \n",
    "#The formula for BMI is weight in kilograms divided by height in meters squared. \n",
    "#If BMI is less than 18.5, it falls within the underweight range. \n",
    "#If BMI is18.5 to <25, it falls within the healthy weight range. If BMI is 25.0 or higher,\n",
    "#it falls within the overweight range. You have to display the BMI value with one decimal place \n",
    "#and corresponding message. The program should interact with the user as follows \n",
    "#(Hint: You can learn for loop and if-else statement from section3 ):\n",
    "# initialize an empty list to store user input data\n",
    "data = []\n",
    "i=0\n",
    "num = int(input(\"Enter number of people:\"))\n",
    "# loop to get input from user for each person\n",
    "while i<num:\n",
    "    #name input and capitalize the first letter of each word\n",
    "    name = input(\"Enter your name: \").title()\n",
    "    name = name.capitalize()\n",
    "    #height input in centimeters\n",
    "    height_cm = float(input(\"Enter your height in centimeters: \"))\n",
    "    #weight input in kilograms\n",
    "    weight_kg = float(input(\"Enter your weight in kilograms: \"))\n",
    "\n",
    "    # save data to the list\n",
    "    data.append([name, height_cm, weight_kg])\n",
    "    print(\"All data:\",data)\n",
    "    i+=1\n",
    "print(\"=====================================\")\n",
    "j=0\n",
    "for j in range(num):\n",
    "    height_m = data[j][1] / 100\n",
    "    bmi = data[j][2] / (height_m ** 2)\n",
    "    if bmi < 18.5:\n",
    "        message = \"is underweight\"\n",
    "    elif bmi >= 18.5 and bmi < 25:\n",
    "        message = \"maintains optimal body weight\"\n",
    "    else:\n",
    "        message = \"is overweight\"\n",
    "    print(data[j][0],\"'s BMI is\",\" \",round(bmi,1),\"\\n\\n\",sep=\"\")\n",
    "    print(data[j][0],\" \",message,\".\",\"\\n\\n\",sep=\"\")\n",
    "\n"
   ]
  },
  {
   "cell_type": "code",
   "execution_count": null,
   "metadata": {},
   "outputs": [],
   "source": []
  },
  {
   "cell_type": "code",
   "execution_count": 39,
   "metadata": {},
   "outputs": [
    {
     "ename": "SyntaxError",
     "evalue": "invalid syntax (<ipython-input-39-f7e2036c015f>, line 9)",
     "output_type": "error",
     "traceback": [
      "\u001b[0;36m  File \u001b[0;32m\"<ipython-input-39-f7e2036c015f>\"\u001b[0;36m, line \u001b[0;32m9\u001b[0m\n\u001b[0;31m    print(\"All Data[\"info_list\"]\")\u001b[0m\n\u001b[0m                     ^\u001b[0m\n\u001b[0;31mSyntaxError\u001b[0m\u001b[0;31m:\u001b[0m invalid syntax\n"
     ]
    }
   ],
   "source": []
  },
  {
   "cell_type": "code",
   "execution_count": 46,
   "metadata": {},
   "outputs": [
    {
     "name": "stdout",
     "output_type": "stream",
     "text": [
      "Enter your name: vivan\n",
      "Enter your height(cm): 180\n",
      "Enter your weight(kg): 78\n"
     ]
    },
    {
     "ename": "AttributeError",
     "evalue": "'builtin_function_or_method' object has no attribute 'append'",
     "output_type": "error",
     "traceback": [
      "\u001b[0;31m---------------------------------------------------------------------------\u001b[0m",
      "\u001b[0;31mAttributeError\u001b[0m                            Traceback (most recent call last)",
      "\u001b[0;32m<ipython-input-46-d9d0d9751b17>\u001b[0m in \u001b[0;36m<module>\u001b[0;34m\u001b[0m\n\u001b[1;32m      3\u001b[0m \u001b[0mheight\u001b[0m \u001b[0;34m=\u001b[0m \u001b[0mstr\u001b[0m\u001b[0;34m(\u001b[0m\u001b[0mfloat\u001b[0m\u001b[0;34m(\u001b[0m\u001b[0minput\u001b[0m\u001b[0;34m(\u001b[0m\u001b[0;34m\"Enter your height(cm): \"\u001b[0m\u001b[0;34m)\u001b[0m\u001b[0;34m)\u001b[0m\u001b[0;34m)\u001b[0m\u001b[0;34m\u001b[0m\u001b[0;34m\u001b[0m\u001b[0m\n\u001b[1;32m      4\u001b[0m \u001b[0mweight\u001b[0m \u001b[0;34m=\u001b[0m \u001b[0mstr\u001b[0m\u001b[0;34m(\u001b[0m\u001b[0mfloat\u001b[0m\u001b[0;34m(\u001b[0m\u001b[0minput\u001b[0m\u001b[0;34m(\u001b[0m\u001b[0;34m\"Enter your weight(kg): \"\u001b[0m\u001b[0;34m)\u001b[0m\u001b[0;34m)\u001b[0m\u001b[0;34m)\u001b[0m\u001b[0;34m\u001b[0m\u001b[0;34m\u001b[0m\u001b[0m\n\u001b[0;32m----> 5\u001b[0;31m \u001b[0minfo\u001b[0m \u001b[0;34m=\u001b[0m \u001b[0mname\u001b[0m\u001b[0;34m.\u001b[0m\u001b[0mappend\u001b[0m\u001b[0;34m(\u001b[0m\u001b[0mheight\u001b[0m\u001b[0;34m)\u001b[0m\u001b[0;34m\u001b[0m\u001b[0;34m\u001b[0m\u001b[0m\n\u001b[0m\u001b[1;32m      6\u001b[0m \u001b[0minfo_list\u001b[0m \u001b[0;34m=\u001b[0m \u001b[0mname\u001b[0m\u001b[0;34m.\u001b[0m\u001b[0mappend\u001b[0m\u001b[0;34m(\u001b[0m\u001b[0mweight\u001b[0m\u001b[0;34m)\u001b[0m\u001b[0;34m\u001b[0m\u001b[0;34m\u001b[0m\u001b[0m\n",
      "\u001b[0;31mAttributeError\u001b[0m: 'builtin_function_or_method' object has no attribute 'append'"
     ]
    }
   ],
   "source": []
  },
  {
   "cell_type": "code",
   "execution_count": 71,
   "metadata": {},
   "outputs": [
    {
     "name": "stdout",
     "output_type": "stream",
     "text": [
      "Enter number of people:3\n",
      "Enter your name: nue\n",
      "Enter your height in centimeters: 180\n",
      "Enter your weight in kilograms: 78\n",
      "All data: [['Nue', 180.0, 78.0]]\n",
      "Enter your name: nhu\n",
      "Enter your height in centimeters: 180\n",
      "Enter your weight in kilograms: 78\n",
      "All data: [['Nue', 180.0, 78.0], ['Nhu', 180.0, 78.0]]\n",
      "Enter your name: hbuhiuew\n",
      "Enter your height in centimeters: 180\n",
      "Enter your weight in kilograms: 78\n",
      "All data: [['Nue', 180.0, 78.0], ['Nhu', 180.0, 78.0], ['Hbuhiuew', 180.0, 78.0]]\n",
      "=====================================\n",
      "Nue 's BMI is 24.07 \n",
      "\n",
      "\n",
      "Nue is healthy weight \n",
      "\n",
      "\n",
      "Nhu 's BMI is 24.07 \n",
      "\n",
      "\n",
      "Nhu is healthy weight \n",
      "\n",
      "\n",
      "Hbuhiuew 's BMI is 24.07 \n",
      "\n",
      "\n",
      "Hbuhiuew is healthy weight \n",
      "\n",
      "\n"
     ]
    }
   ],
   "source": []
  },
  {
   "cell_type": "code",
   "execution_count": 88,
   "metadata": {},
   "outputs": [
    {
     "name": "stdout",
     "output_type": "stream",
     "text": [
      "Original list: ['a', 'b', ['c', ['d', 'e', ['f', 'g', 'h', 'i', 'j', ['h', 'i', 'j']], 'k'], 'l'], 'm', 'n']\n",
      "New list 1: ['a', 'b', ['c', ['d', 'e', ['f', 'g', 'h', 'i', 'j', ['h', 'i', 'j']], 'k'], 'l'], 'm', 'n']\n",
      "New list 2: ['a', 'b', ['c', ['d', 'e', ['f', 'g', 'h', 'i', 'j', ['h', 'i', 'j']], 'k'], 'l'], 'm', 'n']\n"
     ]
    }
   ],
   "source": []
  },
  {
   "cell_type": "code",
   "execution_count": 81,
   "metadata": {},
   "outputs": [
    {
     "ename": "SyntaxError",
     "evalue": "invalid syntax (<ipython-input-81-636eba1e9cae>, line 5)",
     "output_type": "error",
     "traceback": [
      "\u001b[0;36m  File \u001b[0;32m\"<ipython-input-81-636eba1e9cae>\"\u001b[0;36m, line \u001b[0;32m5\u001b[0m\n\u001b[0;31m    list_2 = add_sublist(list_1, sub_list)\u001b[0m\n\u001b[0m    ^\u001b[0m\n\u001b[0;31mSyntaxError\u001b[0m\u001b[0;31m:\u001b[0m invalid syntax\n"
     ]
    }
   ],
   "source": [
    "list = ['a', 'b', ['c', ['d', 'e', ['f', 'g'], 'k'], 'l'], 'm', 'n']\n",
    "sub_list = ['h', 'i', 'j']\n",
    "\n",
    "list_1 = list[:2] + [list[2][:2] + [list[2][2][:2] + sub_list + list[2][2][3:]] + list[2][3:]] + list[3:]\\\n",
    "list_2 = add_sublist(list_1, sub_list)\n",
    "print(\"New list 1:\", list_1)\n",
    "print(\"New list 2:\", list_2)"
   ]
  },
  {
   "cell_type": "code",
   "execution_count": 89,
   "metadata": {},
   "outputs": [
    {
     "name": "stdout",
     "output_type": "stream",
     "text": [
      "Original list: ['a', 'b', ['c', ['d', 'e', ['f', 'g', 'h', 'i', 'j', ['h', 'i', 'j']], 'k'], 'l'], 'm', 'n']\n",
      "New list 1: ['a', 'b', ['c', ['d', 'e', ['f', 'g', 'h', 'i', 'j', ['h', 'i', 'j']], 'k'], 'l'], 'm', 'n']\n",
      "New list 2: ['a', 'b', ['c', ['d', 'e', ['f', 'g', 'h', 'i', 'j', ['h', 'i', 'j']], 'k'], 'l'], 'm', 'n']\n"
     ]
    }
   ],
   "source": []
  },
  {
   "cell_type": "code",
   "execution_count": 94,
   "metadata": {},
   "outputs": [
    {
     "name": "stdout",
     "output_type": "stream",
     "text": [
      "[10, 20, [300, 400, [5000, 6000, 7000], 500], 40, 30]\n"
     ]
    },
    {
     "ename": "IndexError",
     "evalue": "list index out of range",
     "output_type": "error",
     "traceback": [
      "\u001b[0;31m---------------------------------------------------------------------------\u001b[0m",
      "\u001b[0;31mIndexError\u001b[0m                                Traceback (most recent call last)",
      "\u001b[0;32m<ipython-input-94-2a0deaa092f9>\u001b[0m in \u001b[0;36m<module>\u001b[0;34m\u001b[0m\n\u001b[1;32m      2\u001b[0m \u001b[0mlist\u001b[0m\u001b[0;34m[\u001b[0m\u001b[0;36m2\u001b[0m\u001b[0;34m]\u001b[0m\u001b[0;34m[\u001b[0m\u001b[0;36m2\u001b[0m\u001b[0;34m]\u001b[0m\u001b[0;34m.\u001b[0m\u001b[0mappend\u001b[0m\u001b[0;34m(\u001b[0m\u001b[0;36m7000\u001b[0m\u001b[0;34m)\u001b[0m\u001b[0;34m\u001b[0m\u001b[0;34m\u001b[0m\u001b[0m\n\u001b[1;32m      3\u001b[0m \u001b[0mprint\u001b[0m\u001b[0;34m(\u001b[0m\u001b[0mlist\u001b[0m\u001b[0;34m)\u001b[0m\u001b[0;34m\u001b[0m\u001b[0;34m\u001b[0m\u001b[0m\n\u001b[0;32m----> 4\u001b[0;31m \u001b[0mlist\u001b[0m\u001b[0;34m.\u001b[0m\u001b[0minsert\u001b[0m\u001b[0;34m(\u001b[0m\u001b[0;34m[\u001b[0m\u001b[0;36m2\u001b[0m\u001b[0;34m]\u001b[0m\u001b[0;34m[\u001b[0m\u001b[0;36m3\u001b[0m\u001b[0;34m]\u001b[0m\u001b[0;34m,\u001b[0m\u001b[0;36m600\u001b[0m\u001b[0;34m)\u001b[0m\u001b[0;34m\u001b[0m\u001b[0;34m\u001b[0m\u001b[0m\n\u001b[0m\u001b[1;32m      5\u001b[0m \u001b[0mprint\u001b[0m\u001b[0;34m(\u001b[0m\u001b[0mlist\u001b[0m\u001b[0;34m)\u001b[0m\u001b[0;34m\u001b[0m\u001b[0;34m\u001b[0m\u001b[0m\n",
      "\u001b[0;31mIndexError\u001b[0m: list index out of range"
     ]
    }
   ],
   "source": []
  },
  {
   "cell_type": "code",
   "execution_count": null,
   "metadata": {},
   "outputs": [],
   "source": []
  }
 ],
 "metadata": {
  "interpreter": {
   "hash": "aee8b7b246df8f9039afb4144a1f6fd8d2ca17a180786b69acc140d282b71a49"
  },
  "kernelspec": {
   "display_name": "Python 3.10.10 64-bit",
   "name": "python3"
  },
  "language_info": {
   "codemirror_mode": {
    "name": "ipython",
    "version": 3
   },
   "file_extension": ".py",
   "mimetype": "text/x-python",
   "name": "python",
   "nbconvert_exporter": "python",
   "pygments_lexer": "ipython3",
   "version": "3.10.10"
  }
 },
 "nbformat": 4,
 "nbformat_minor": 4
}