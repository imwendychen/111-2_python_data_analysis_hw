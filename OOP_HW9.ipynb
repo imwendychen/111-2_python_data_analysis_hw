{
 "cells": [
  {
   "cell_type": "code",
   "execution_count": 1,
   "metadata": {},
   "outputs": [],
   "source": [
    "import requests, re, random, configparser, telegram, os\n",
    "from bs4 import BeautifulSoup\n",
    "from telegram.ext import Updater # 更新者\n",
    "from telegram.ext import CommandHandler, CallbackQueryHandler # 註冊處理 一般用 回答用\n",
    "from telegram.ext import MessageHandler, Filters # Filters過濾訊息\n",
    "from telegram import InlineKeyboardMarkup, InlineKeyboardButton # 互動式按鈕\n",
    "import logging, time\n",
    "from flask import Flask, request, app\n",
    "from imgurpython import ImgurClient\n",
    "import re"
   ]
  },
  {
   "cell_type": "code",
   "execution_count": 2,
   "metadata": {},
   "outputs": [
    {
     "name": "stderr",
     "output_type": "stream",
     "text": [
      "/var/folders/f_/rnjcx52d45v_q1lj0ck1b9580000gn/T/ipykernel_5862/2953257587.py:4: TelegramDeprecationWarning: Old Handler API is deprecated - see https://git.io/fxJuV for details\n",
      "  updater = Updater(token=token, use_context=False)\n"
     ]
    }
   ],
   "source": [
    "# setting token\n",
    "token = '6042405264:AAH8dHRC4hhXEoyIuEmXYp4D9YVN--zJPSI'\n",
    "# initialize bot\n",
    "updater = Updater(token=token, use_context=False)"
   ]
  },
  {
   "cell_type": "code",
   "execution_count": 3,
   "metadata": {},
   "outputs": [],
   "source": [
    "# set a dispatcher\n",
    "dispatcher = updater.dispatcher"
   ]
  },
  {
   "cell_type": "code",
   "execution_count": 4,
   "metadata": {},
   "outputs": [
    {
     "name": "stderr",
     "output_type": "stream",
     "text": [
      "/Library/Frameworks/Python.framework/Versions/3.10/lib/python3.10/site-packages/urllib3/connectionpool.py:1045: InsecureRequestWarning: Unverified HTTPS request is being made to host 'rate.bot.com.tw'. Adding certificate verification is strongly advised. See: https://urllib3.readthedocs.io/en/1.26.x/advanced-usage.html#ssl-warnings\n",
      "  warnings.warn(\n"
     ]
    }
   ],
   "source": [
    "# parser for exchange rate\n",
    "target_url = 'https://rate.bot.com.tw/xrt/flcsv/0/day'\n",
    "currency = {} # store every exchange rate in the dict\n",
    "currency['NTD']=1 \n",
    "rs = requests.session()\n",
    "res = rs.get(target_url, verify=False)\n",
    "res.encoding = 'utf-8'\n",
    "rt = res.text\n",
    "rts = rt.split('\\n')\n",
    "for i in rts:              # 讀取串列的每個項目\n",
    "        try:                             # 使用 try 避開最後一行的空白行\n",
    "            a = i.split(',')             # 每個項目用逗號拆分成子串列\n",
    "            currency[a[0]]=float(a[12])         # 取出第一個 ( 0 ) 和第十三個項目 ( 12 )，存入字典\n",
    "        except:\n",
    "            continue"
   ]
  },
  {
   "cell_type": "code",
   "execution_count": 5,
   "metadata": {},
   "outputs": [],
   "source": [
    "# when typing in '/start'\n",
    "def start (bot, update):\n",
    "    message=update.message\n",
    "    chat = message['chat']\n",
    "    update.message.reply_text(text='HI  '+str(chat['first_name'])+str(chat['last_name']))# say hello to user\n",
    "    update.message.reply_text(text='這是匯率機器人，使用範例：1000NTD=JPY')# introduce the bot\n",
    "    update.message.reply_text(text='/help可瀏覽各貨幣縮寫，/rate可瀏覽今日牌告匯率')# introduce the commands that user can use\n",
    "\n",
    "# when typing in '\\help'\n",
    "def help (bot, update):\n",
    "    message=update.message\n",
    "    chat = message['chat']\n",
    "    # print out the tutorial message to users\n",
    "    update.message.reply_text(text='使用範例：1000台幣換算成日幣，請輸入1000NTD=JPY')\n",
    "    update.message.reply_text(text='各貨幣縮寫')\n",
    "    update.message.reply_text(text='美金(USD) 港幣(HKD) 英鎊(GBP)')\n",
    "    update.message.reply_text(text='澳幣(AUD) 日幣(JPY) 加拿大幣(CAD)')\n",
    "    update.message.reply_text(text='紐元(NZD) 泰幣(THB) 新台幣(NTD)')\n",
    "    update.message.reply_text(text='歐元(EUR) 韓元(KRW) 瑞士法郎(CHF)')\n",
    "    update.message.reply_text(text='南非幣(ZAR) 瑞典幣(SEK) 菲國比索(PHP)')\n",
    "    update.message.reply_text(text='印尼幣(IDR) 越南盾(VND) 馬來幣(MYR)')\n",
    "    update.message.reply_text(text='人民幣(CNY) 新加坡幣(SGD)')\n",
    "\n",
    "# when typing in '\\rate'\n",
    "def rate(bot, update):\n",
    "    # parser for every exchange rate\n",
    "    target_url = 'https://rate.bot.com.tw/xrt/flcsv/0/day'\n",
    "    rs = requests.session()\n",
    "    res = rs.get(target_url, verify=False)\n",
    "    res.encoding = 'utf-8'\n",
    "    rt = res.text\n",
    "    rts = rt.split('\\n')\n",
    "    bot.sendMessage(chat_id=update.message.chat_id, text='今日貨幣對其他貨幣的牌告匯率:\\n')\n",
    "    for i in rts:              # 讀取串列的每個項目\n",
    "        try:                             # 使用 try 避開最後一行的空白行\n",
    "            a = i.split(',')             # 每個項目用逗號拆分成子串列\n",
    "            bot.sendMessage(chat_id=update.message.chat_id, text=a[0] + ': ' + a[12])# 取出第一個 ( 0 ) 和第十三個項目 ( 12 )\n",
    "        except:\n",
    "            break\n",
    "\n",
    "# when type in other commands, check if user want to change amount of the currency to another currency's.\n",
    "def rateexchange(bot, update): # 其他訊息，換算\n",
    "    message = update.message\n",
    "    global currency\n",
    "\n",
    "    #find numbers\n",
    "    num = int(re.match('(\\.?\\d*)', message.text).group(0))\n",
    "    #find words\n",
    "    find_word = re.compile(r'[a-z]+',re.I)\n",
    "    word = find_word.findall(message.text)\n",
    "    \n",
    "    # exchange calculation\n",
    "    rate_1 = currency[f'{word[0].upper()}']\n",
    "    rate_2 = currency[f'{word[1].upper()}']\n",
    "    \n",
    "    # their relative rate\n",
    "    rate_now = rate_2/rate_1\n",
    "    # do the calculation to turn certain amount of currency into another corresponding amount of another currency.\n",
    "    money = num/rate_now\n",
    "    # send message to users\n",
    "    update.message.reply_text(f'匯率：{rate_now}')\n",
    "    update.message.reply_text(f'{money:.2f} {word[1].upper()}')\n",
    "\n",
    "    # if the user type in something that the bot cannot understand or find the exchange rate\n",
    "    #update.message.reply_text('找不到對應匯率')\n",
    "\n",
    "# based on different input messages, there are four different types of functions to do correspoding tasks\n",
    "dispatcher.add_handler(CommandHandler('start',start))# /start\n",
    "dispatcher.add_handler(CommandHandler('rate',rate))# /rate\n",
    "dispatcher.add_handler(CommandHandler('help',help))# /help\n",
    "dispatcher.add_handler(MessageHandler(Filters.text, rateexchange)) # Filters如果是文字就呼叫rateexchange\n",
    "\n",
    "\n",
    "updater.start_polling()# start\n",
    "updater.idle()# idling\n",
    "updater.stop()# stop the bot"
   ]
  }
 ],
 "metadata": {
  "interpreter": {
   "hash": "aee8b7b246df8f9039afb4144a1f6fd8d2ca17a180786b69acc140d282b71a49"
  },
  "kernelspec": {
   "display_name": "Python 3.10.10 64-bit",
   "name": "python3"
  },
  "language_info": {
   "codemirror_mode": {
    "name": "ipython",
    "version": 3
   },
   "file_extension": ".py",
   "mimetype": "text/x-python",
   "name": "python",
   "nbconvert_exporter": "python",
   "pygments_lexer": "ipython3",
   "version": "3.10.10"
  },
  "orig_nbformat": 4
 },
 "nbformat": 4,
 "nbformat_minor": 2
}