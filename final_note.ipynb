{
 "cells": [
  {
   "cell_type": "markdown",
   "metadata": {},
   "source": [
    "### random"
   ]
  },
  {
   "cell_type": "code",
   "execution_count": 50,
   "metadata": {},
   "outputs": [],
   "source": [
    "from numpy import random\n",
    "#隨機產生10000筆數字，平均數100，標準差5\n",
    "df = random.normal(loc=100, scale=5, size=(10000))\n",
    "\n",
    "# 產生常態分布亂數（平均值 = 0，標準差 = 1）\n",
    "x = random.gauss(mu=0, sigma=1)\n",
    "print(x)\n",
    "\n",
    "# 產生 10000 個常態分布亂數\n",
    "nums = []\n",
    "for i in range(10000):\n",
    "    x = random.gauss(mu=0, sigma=1)\n",
    "    nums.append(x)\n",
    "\n",
    "# 產生指數分布亂數（平均值 = 1/5）\n",
    "x = random.expovariate(lambd=5)\n",
    "print(x)"
   ]
  },
  {
   "cell_type": "markdown",
   "metadata": {},
   "source": [
    "### 階乘"
   ]
  },
  {
   "cell_type": "code",
   "execution_count": 1,
   "metadata": {},
   "outputs": [
    {
     "name": "stdout",
     "output_type": "stream",
     "text": [
      "Factorial is 120\n"
     ]
    }
   ],
   "source": [
    "from math import factorial\n",
    "print (\"Factorial is\", factorial(5))"
   ]
  },
  {
   "cell_type": "markdown",
   "metadata": {},
   "source": [
    "### lambda"
   ]
  },
  {
   "cell_type": "code",
   "execution_count": 2,
   "metadata": {},
   "outputs": [
    {
     "name": "stdout",
     "output_type": "stream",
     "text": [
      "8\n"
     ]
    }
   ],
   "source": [
    "multiply = lambda x,y:x*y\n",
    "print(multiply(4,2))"
   ]
  },
  {
   "cell_type": "markdown",
   "metadata": {},
   "source": [
    "### file write&open"
   ]
  },
  {
   "cell_type": "code",
   "execution_count": null,
   "metadata": {},
   "outputs": [],
   "source": [
    "f = open('hihi.txt','r')#text file open\n",
    "f.write()\n",
    "f.close()"
   ]
  },
  {
   "cell_type": "markdown",
   "metadata": {},
   "source": [
    "### lambda\n",
    "#### filter(lambda parameter: expression, iterable)"
   ]
  },
  {
   "cell_type": "code",
   "execution_count": 29,
   "metadata": {},
   "outputs": [
    {
     "name": "stdout",
     "output_type": "stream",
     "text": [
      "32\n",
      "[50, 67, 88, 93]\n",
      "[4, 100, 134, 176, 186]\n"
     ]
    }
   ],
   "source": [
    "x= 32\n",
    "numbers = [2,50,67,88,93]\n",
    "# if else\n",
    "abs_number = (lambda x : x if x >= 0 else -x)(x)\n",
    "#abs_number = (lambda x : x if x >= 0 else -x)\n",
    "print(abs_number)\n",
    "#print(abs_number(x))\n",
    "\n",
    "# filter\n",
    "result = filter(lambda x:x>10,numbers)\n",
    "print(list(result))\n",
    "\n",
    "# map(用在多個數，串列裡)\n",
    "result = map(lambda x:x*2, numbers)\n",
    "print(list(result))\n",
    "\n",
    "# reduce會將後面的疊代對象，逐項將iterable的每個元素 利用function進行運算，簡化後回傳一個數值或答案\n"
   ]
  },
  {
   "cell_type": "code",
   "execution_count": 28,
   "metadata": {},
   "outputs": [
    {
     "name": "stdout",
     "output_type": "stream",
     "text": [
      "93\n",
      "300\n"
     ]
    }
   ],
   "source": [
    "from functools import reduce\n",
    "result = reduce(lambda x,y: x if x>y else y,numbers)\n",
    "print(result)\n",
    "result = reduce(lambda x,y: x+y,numbers)\n",
    "print(result)"
   ]
  },
  {
   "cell_type": "code",
   "execution_count": 12,
   "metadata": {},
   "outputs": [
    {
     "name": "stdout",
     "output_type": "stream",
     "text": [
      "[('tloyota', '1000'), ('toyota', '3000'), ('ltoyota', '5000')]\n"
     ]
    }
   ],
   "source": [
    "cars = [ \n",
    "    ('toyota','3000'),\n",
    "    ('tloyota','1000'),\n",
    "    ('ltoyota','5000')\n",
    "]\n",
    "print(sorted(cars, key=lambda car:car[1]))"
   ]
  },
  {
   "cell_type": "markdown",
   "metadata": {},
   "source": [
    "## numpy"
   ]
  },
  {
   "cell_type": "code",
   "execution_count": 30,
   "metadata": {},
   "outputs": [],
   "source": [
    "import numpy as np\n",
    "data = [np.random.standard_normal() for i in range(7)]"
   ]
  },
  {
   "cell_type": "markdown",
   "metadata": {},
   "source": [
    "# 資料前處理"
   ]
  },
  {
   "cell_type": "code",
   "execution_count": null,
   "metadata": {},
   "outputs": [],
   "source": [
    "import pandas as pd\n",
    "import numpy as np"
   ]
  },
  {
   "cell_type": "code",
   "execution_count": null,
   "metadata": {},
   "outputs": [],
   "source": [
    "# 查看前五筆資料\n",
    "df.head()\n",
    "df.tail()\n",
    "# 查看欄位名稱，欄位的資料型態\n",
    "df.info()\n",
    "#分佈情形\n",
    "df.describe()\n",
    "#幾筆資料\n",
    "len(df)"
   ]
  },
  {
   "cell_type": "code",
   "execution_count": null,
   "metadata": {},
   "outputs": [],
   "source": [
    "# read csv file\n",
    "df1 = pd.read_csv('./AQI_CSV/AQI-2023-01.csv')\n",
    "# make it as a csv file\n",
    "df.to_csv(f\"AQI.csv\")"
   ]
  },
  {
   "cell_type": "code",
   "execution_count": 36,
   "metadata": {},
   "outputs": [
    {
     "name": "stdout",
     "output_type": "stream",
     "text": [
      "d     2\n",
      "b     9\n",
      "r    90\n",
      "w     8\n",
      "dtype: int64\n"
     ]
    },
    {
     "data": {
      "text/plain": [
       "d    7.389056e+00\n",
       "a    3.678794e-01\n",
       "b    8.103084e+03\n",
       "r    1.220403e+39\n",
       "w    2.980958e+03\n",
       "dtype: float64"
      ]
     },
     "execution_count": 36,
     "metadata": {},
     "output_type": "execute_result"
    }
   ],
   "source": [
    "obj2 = pd.Series([2,-1,9,90,8],index=['d','a','b','r','w'])\n",
    "result = obj2[obj2 > 0]\n",
    "print(result)\n",
    "# 自然指數\n",
    "np.exp(obj2)"
   ]
  },
  {
   "cell_type": "code",
   "execution_count": 53,
   "metadata": {},
   "outputs": [],
   "source": [
    "import pandas as pd\n",
    "df = pd.read_csv(\"../作業/hw/0050.csv\")\n",
    "df = pd.DataFrame(df)"
   ]
  },
  {
   "cell_type": "markdown",
   "metadata": {},
   "source": [
    "### train test split"
   ]
  },
  {
   "cell_type": "code",
   "execution_count": null,
   "metadata": {},
   "outputs": [],
   "source": [
    "from sklearn.model_selection import train_test_split\n",
    "#2 並把 df 隨機為分為 8:2 的兩個 DataFrame，並命名為 train_df 和 test_df，train_df 為8，test_df 為 2。\n",
    "train_df, test_df = train_test_split(df, random_state=777, train_size=0.8)"
   ]
  },
  {
   "cell_type": "markdown",
   "metadata": {},
   "source": [
    "### index"
   ]
  },
  {
   "cell_type": "code",
   "execution_count": 46,
   "metadata": {},
   "outputs": [],
   "source": [
    "# 重設索引值\n",
    "x = df.reindex(index=df.Date)\n",
    "df = df.set_index('\"siteid\"')\n",
    "# 刪除某列\n",
    "df.drop(index=[\"Colorado\", \"Ohio\"])\n",
    "# 刪除某欄\n",
    "y = x.drop(columns=['Date'])\n",
    "y = x.drop(['Date'],axis=1)\n",
    "# 只留某幾欄且按照順序\n",
    "df=df.reindex(['\"sitename\"','\"aqi\"', '\"pm2.5_avg\"', '\"pm10_avg\"','\"so2_avg\"','\"datacreationdate\"'],axis=1)\n",
    "#只留某幾欄\n",
    "new_df = df.filter(items=['new_cases', 'new_deaths','population_density'])"
   ]
  },
  {
   "cell_type": "markdown",
   "metadata": {},
   "source": [
    "### 更換欄位名稱"
   ]
  },
  {
   "cell_type": "code",
   "execution_count": 54,
   "metadata": {},
   "outputs": [],
   "source": [
    "#更換名稱為value,**一定要是dataframe才能更換\n",
    "df = pd.DataFrame(df)\n",
    "df = df.rename(columns={'Date':'date'})"
   ]
  },
  {
   "cell_type": "markdown",
   "metadata": {},
   "source": [
    "### 日期"
   ]
  },
  {
   "cell_type": "code",
   "execution_count": null,
   "metadata": {},
   "outputs": [],
   "source": [
    "# 將日期的十分秒去除只留年月日\n",
    "df['\"date\"']=pd.to_datetime(df['\"datacreationdate\"']).dt.normalize()\n",
    "# 更改日期格式\n",
    "df['date'] = pd.to_datetime(df['date'])\n",
    "df['date']=df['date'].dt.strftime('%Y-%m')\n",
    "df['date']"
   ]
  },
  {
   "cell_type": "markdown",
   "metadata": {},
   "source": [
    "### 處理空值"
   ]
  },
  {
   "cell_type": "code",
   "execution_count": null,
   "metadata": {},
   "outputs": [],
   "source": [
    "del(df['\"unit\"'])\n",
    "#處理空值, fill in 0\n",
    "df = df.fillna(0)\n",
    "#drop it\n",
    "df.dropna()"
   ]
  },
  {
   "cell_type": "markdown",
   "metadata": {},
   "source": [
    "### normalize"
   ]
  },
  {
   "cell_type": "code",
   "execution_count": null,
   "metadata": {},
   "outputs": [],
   "source": [
    "#standardizing new_cases & new_deaths\n",
    "df_new['new_cases'] = preprocessing.scale(df_new['new_cases']) \n",
    "df_new['new_deaths'] = preprocessing.scale(df_new['new_deaths']) "
   ]
  },
  {
   "cell_type": "markdown",
   "metadata": {},
   "source": [
    "### z-score, mean, std"
   ]
  },
  {
   "cell_type": "code",
   "execution_count": null,
   "metadata": {},
   "outputs": [],
   "source": [
    "#將df2每個值都轉換為z-score\n",
    "df3 = df2.apply(zscore)\n",
    "#算出每行的平均跟標準差\n",
    "avg_list=list(np.mean(df3, axis=0))\n",
    "std_list=list(np.std(df3, axis=0))"
   ]
  },
  {
   "cell_type": "markdown",
   "metadata": {},
   "source": [
    "### 資料欄位值的篩選"
   ]
  },
  {
   "cell_type": "code",
   "execution_count": 56,
   "metadata": {},
   "outputs": [],
   "source": [
    "# 就單個資料欄位的值篩選\n",
    "df1 = df[df['\"county\"']=='高雄市']\n",
    "df1 = df[df['Open']>48]\n",
    "# 就多個資料欄位的值篩選\n",
    "df2 = df[df['Open'] > df['Close']]\n",
    "# sorted\n",
    "tmp = df1.sort_values(['Amount'],ascending=[False])\n",
    "tmp = df1.sort_values(['Amount'],ascending=[False]).to_numpy()\n",
    "#找出四分位數\n",
    "IQR = np.percentile(df['Open'],75) - np.percentile(df['Open'],25)"
   ]
  },
  {
   "cell_type": "markdown",
   "metadata": {},
   "source": [
    "### groupby"
   ]
  },
  {
   "cell_type": "code",
   "execution_count": null,
   "metadata": {},
   "outputs": [],
   "source": [
    "# 用多個欄位groupby然後取其中一個欄位做平均\n",
    "df = df.groupby(['\"sitename\"','\"datacreationdate\"'],as_index=False).mean('\"aqi\"')\n",
    "# 用一個欄位groupby再取各個欄位要取的值，多欄位要取總和或平均要用agg\n",
    "a=df.groupby(['date']).agg({\"new_cases\":\"sum\",\"new_deaths\":\"sum\"})"
   ]
  },
  {
   "cell_type": "markdown",
   "metadata": {},
   "source": [
    "## transpose"
   ]
  },
  {
   "cell_type": "code",
   "execution_count": null,
   "metadata": {},
   "outputs": [],
   "source": [
    "frame3.T"
   ]
  },
  {
   "cell_type": "markdown",
   "metadata": {},
   "source": [
    "### ndarry or df"
   ]
  },
  {
   "cell_type": "code",
   "execution_count": null,
   "metadata": {},
   "outputs": [],
   "source": [
    "frame3.to_numpy()\n",
    "pd.DataFrame(frame3)\n",
    "frame = pd.DataFrame(np.arange(9).reshape((3, 3)),index=[\"a\", \"c\", \"d\"],columns=[\"Ohio\", \"Texas\", \"California\"])"
   ]
  },
  {
   "cell_type": "markdown",
   "metadata": {},
   "source": [
    "## predict"
   ]
  },
  {
   "cell_type": "markdown",
   "metadata": {},
   "source": [
    "## Matplotlib"
   ]
  },
  {
   "cell_type": "code",
   "execution_count": null,
   "metadata": {},
   "outputs": [],
   "source": [
    "import matplotlib.pyplot as plt"
   ]
  },
  {
   "cell_type": "markdown",
   "metadata": {},
   "source": [
    "### 字體"
   ]
  },
  {
   "cell_type": "code",
   "execution_count": null,
   "metadata": {},
   "outputs": [],
   "source": [
    "plt.rcParams['font.sans-serif'] = ['Microsoft JhengHei'] \n",
    "plt.rcParams['axes.unicode_minus'] = False\n",
    "plt.rcParams['font.sans-serif'] = ['BiauKai']\n",
    "# 上面這兩句有設應該就行了"
   ]
  },
  {
   "cell_type": "code",
   "execution_count": null,
   "metadata": {},
   "outputs": [],
   "source": [
    "#設置圖表大小及顏色\n",
    "fig=plt.figure(figsize=(24,8), dpi=100, facecolor=\"white\",edgecolor=\"green\")\n",
    "#標題\n",
    "plt.title(\"0050 股票統計圖表\",{\"size\":20,\"color\":\"black\"})\n",
    "#關掉plt的刻度\n",
    "plt.axis(\"off\")\n",
    "#新增兩個子圖\n",
    "ax = fig.add_subplot(2, 1, 1)\n",
    "ax2 = fig.add_subplot(2, 1, 2)\n",
    "#兩個子圖間不要有間隔\n",
    "plt.subplots_adjust(hspace=0)"
   ]
  },
  {
   "cell_type": "code",
   "execution_count": null,
   "metadata": {},
   "outputs": [],
   "source": [
    "#主刻度為天，間隔90天\n",
    "ax2.set_xticks(pd.date_range(date[0],date[-1],freq='90D'))\n",
    "ax2.xaxis.set_major_formatter(mdates.DateFormatter('%Y-%m-%d')) \n",
    "ax2.tick_params(which='major',axis='x',labelrotation=0,labelsize=6.5,length=5,pad=10)"
   ]
  },
  {
   "cell_type": "code",
   "execution_count": null,
   "metadata": {},
   "outputs": [],
   "source": [
    "#將上方子圖的折線分別畫出\n",
    "ax.plot(date,five_sma, color=\"blue\", label=fsma+'5日均線',markerfacecolor='red',markersize=6)\n",
    "ax.plot(date,twenty_sma, color='purple', label=tsma+'20日均線',markerfacecolor='#121466',markersize=6)\n",
    "ax.plot(date,sixty_sma, color='green', label=ssma+'60日均線',markerfacecolor='#121466',markersize=6)\n",
    "#將下方的子圖用長條圖畫出，超過平均為綠色，低於平均為紅色（amount)\n",
    "ax2.bar(df.Date, df.Amount,color=['green'if val-df.Amount.mean()>0 else 'red' for val in df.Amount])\n",
    "#lengend標籤位置，1為右上角\n",
    "ax.legend(loc=1)\n",
    "plt.show()"
   ]
  },
  {
   "cell_type": "code",
   "execution_count": null,
   "metadata": {},
   "outputs": [],
   "source": [
    "#設定子圖的標題以及x,y軸的標籤\n",
    "ax.set_title(\"temperature\")\n",
    "ax.set_xlabel(\"month\")\n",
    "ax.set_ylabel(\"temperature(℃)\")\n",
    "\n",
    "#設定子圖的標題以及x,y軸的標籤\n",
    "ax2.set_title(\"precipitation\")\n",
    "ax2.set_xlabel(\"month\")\n",
    "ax2.set_ylabel(\"precipitation(mm)\")"
   ]
  },
  {
   "cell_type": "code",
   "execution_count": null,
   "metadata": {},
   "outputs": [],
   "source": [
    "#畫出甜甜圈圖,調整wedgeprops裡的width參數，使得圓餅圖中有可以有個洞，以畫出甜甜圈的樣子\n",
    "plt.pie(f_df[\"降水量(mm)\"], labels=f_df.index,autopct='%.1f%%',textprops={'color':'black','size':10},pctdistance=0.7,radius=1.5, wedgeprops={'linewidth':1, 'edgecolor':'w','width':1})\n",
    "plt.show()"
   ]
  },
  {
   "cell_type": "markdown",
   "metadata": {
    "id": "mYpQKUptbznj"
   },
   "source": [
    "### 箱型圖\n",
    "透過 boxplot 來查看特徵 x 在 3143 筆資料中的分布狀況，我們可以看出平均值約 0.8，最大值接近 1，最小值接近 0。其中值大多介於0.6~1之間，其大的數目屬於零星的數量。"
   ]
  },
  {
   "cell_type": "code",
   "execution_count": null,
   "metadata": {
    "id": "Wnb6Q4mbbznk",
    "outputId": "cf513fe2-0abf-4d94-d6b5-78d1b00a11aa"
   },
   "outputs": [
    {
     "data": {
      "image/png": "[encoded data removed]",
      "text/plain": [
       "<Figure size 144x360 with 1 Axes>"
      ]
     },
     "output_type": "unknown"
    }
   ],
   "source": [
    "plt.figure(figsize=(2,5))\n",
    "plt.boxplot(data['x'],showmeans=True)\n",
    "plt.title('x')\n",
    "plt.show()"
   ]
  },
  {
   "cell_type": "markdown",
   "metadata": {
    "id": "-FQAOWObbznm"
   },
   "source": [
    "## 離群值處理\n",
    "這裡提供兩種常見的方法來對資料進行處理，第一個是將左偏的資料取平方。第二種是透過分位數來移除離群值。\n"
   ]
  },
  {
   "cell_type": "markdown",
   "metadata": {
    "id": "NXbaXP2abznn"
   },
   "source": [
    "### 方法1: 特徵取平方\n",
    "因為資料型態`左偏`，因此我們可以透過取平方來將資料拉回使為更集中。"
   ]
  },
  {
   "cell_type": "code",
   "execution_count": null,
   "metadata": {
    "id": "bGybXb0Xbznn",
    "outputId": "ff237f00-00b4-41ef-f535-f2956e689e5e"
   },
   "outputs": [
    {
     "data": {
      "image/png": "[encoded data removed]",
      "text/plain": [
       "<Figure size 432x288 with 1 Axes>"
      ]
     },
     "output_type": "unknown"
    }
   ],
   "source": [
    "exp_data = np.power(data['x'], 2)\n",
    "exp_data = exp_data.replace([np.inf, -np.inf, -0], 0)\n",
    "sns.distplot(exp_data)\n",
    "plt.show()"
   ]
  },
  {
   "cell_type": "code",
   "execution_count": null,
   "metadata": {
    "id": "Qlw3pTi-bzno",
    "outputId": "810201fc-a671-41c7-f203-f2cb32509f37"
   },
   "outputs": [
    {
     "data": {
      "application/vnd.code.notebook.stdout": [
       "偏態(Skewness): -0.64\n"
      ]
     },
     "output_type": "unknown"
    }
   ],
   "source": [
    "print(\"偏態(Skewness): {:.2f}\".format(exp_data.skew()))"
   ]
  },
  {
   "cell_type": "markdown",
   "metadata": {
    "id": "VqU4pY9tbznp"
   },
   "source": [
    "### 方法二: 移除離群值"
   ]
  },
  {
   "cell_type": "code",
   "execution_count": null,
   "metadata": {
    "id": "iB2DPlGsbznp",
    "outputId": "cef6cc99-a6da-4558-aac1-687429f86d33"
   },
   "outputs": [
    {
     "data": {
      "application/vnd.code.notebook.stdout": [
       "Shape Of The Before Ouliers:  (2998, 1)\n",
       "Shape Of The After Ouliers:  (2897, 1)\n"
      ]
     },
     "output_type": "unknown"
    }
   ],
   "source": [
    "# 將所有特徵超出1.5倍標準差的概念將這些Outlier先去掉，避免對Model造成影響\n",
    "print (\"Shape Of The Before Ouliers: \",data.shape)\n",
    "n=1.5\n",
    "#IQR = Q3-Q1\n",
    "IQR = np.percentile(data['x'],75) - np.percentile(data['x'],25)\n",
    "#outlier = Q3 + n*IQR \n",
    "data=data[data['x'] < np.percentile(data['x'],75)+n*IQR]\n",
    "#outlier = Q1 - n*IQR \n",
    "data=data[data['x'] > np.percentile(data['x'],25)-n*IQR]\n",
    "print (\"Shape Of The After Ouliers: \",data.shape)"
   ]
  },
  {
   "cell_type": "code",
   "execution_count": null,
   "metadata": {
    "id": "3XCIC1itbznr",
    "outputId": "731f5326-5f46-4edf-b684-c15f45147bb9"
   },
   "outputs": [
    {
     "data": {
      "image/png": "[encoded data removed]",
      "text/plain": [
       "<Figure size 432x288 with 1 Axes>"
      ]
     },
     "output_type": "unknown"
    }
   ],
   "source": [
    "import seaborn as sns\n",
    "sns.distplot(data['x'])\n",
    "plt.show()"
   ]
  },
  {
   "cell_type": "code",
   "execution_count": null,
   "metadata": {
    "id": "WjAipmGjbzns",
    "outputId": "f296735b-c91f-498f-c0e5-31515ea05127"
   },
   "outputs": [
    {
     "data": {
      "application/vnd.code.notebook.stdout": [
       "偏態(Skewness): -0.46\n"
      ]
     },
     "output_type": "unknown"
    }
   ],
   "source": [
    "print(\"偏態(Skewness): {:.2f}\".format(data['x'].skew()))"
   ]
  },
  {
   "cell_type": "code",
   "execution_count": 2,
   "metadata": {
    "id": "EFv4CR7-bzns"
   },
   "outputs": [
    {
     "data": {
      "text/plain": [
       "array([[-1.15411958, -0.20991663,  1.39933262,  0.86543111],\n",
       "       [-1.31054838, -0.64274742,  0.40313711, -0.81773239],\n",
       "       [-1.10418883, -0.97117887, -0.3150389 , -0.28084658],\n",
       "       [ 0.62466624, -0.94947534, -0.13647689,  0.98363192]])"
      ]
     },
     "output_type": "unknown"
    }
   ],
   "source": [
    "import numpy as np\n",
    "import random\n",
    "samples = np.random.standard_normal(size=(4, 4))\n",
    "samples\n",
    "random.normalvariate(100,10)"
   ]
  },
  {
   "cell_type": "markdown",
   "metadata": {},
   "source": [
    "### 折線圖"
   ]
  },
  {
   "cell_type": "code",
   "execution_count": null,
   "metadata": {},
   "outputs": [],
   "source": [
    "# 設置Thailand Monthly Average Cases圖\n",
    "plt.plot(monthly_avg_case)\n",
    "plt.title('Thailand Monthly Average Cases')\n",
    "plt.xlabel('Month')\n",
    "plt.ylabel('Average Cases')\n",
    "plt.show()"
   ]
  },
  {
   "cell_type": "markdown",
   "metadata": {},
   "source": [
    "# tkinter"
   ]
  },
  {
   "cell_type": "code",
   "execution_count": 8,
   "metadata": {},
   "outputs": [],
   "source": [
    "import tkinter as tk"
   ]
  },
  {
   "cell_type": "markdown",
   "metadata": {},
   "source": [
    "## label\n"
   ]
  },
  {
   "cell_type": "code",
   "execution_count": 7,
   "metadata": {},
   "outputs": [],
   "source": [
    "root = tk.Tk()\n",
    "root.title('hello world')\n",
    "root.geometry('200x150')\n",
    "\n",
    "mylabel = tk.Label(root, text='hello world', font=('Arial', 18))\n",
    "mylabel.pack()\n",
    "\n",
    "\n",
    "root.mainloop()"
   ]
  },
  {
   "cell_type": "markdown",
   "metadata": {},
   "source": [
    "## button\n"
   ]
  },
  {
   "cell_type": "code",
   "execution_count": 9,
   "metadata": {},
   "outputs": [],
   "source": [
    "root = tk.Tk()\n",
    "root.title('my window')\n",
    "root.geometry('200x150')\n",
    "\n",
    "def button_event():\n",
    "    mybutton['text'] = 'hello world'\n",
    "\n",
    "mybutton = tk.Button(root, text='button', command=button_event)\n",
    "mybutton.pack()\n",
    "\n",
    "root.mainloop()"
   ]
  },
  {
   "cell_type": "markdown",
   "metadata": {},
   "source": [
    "## entry"
   ]
  },
  {
   "cell_type": "code",
   "execution_count": 10,
   "metadata": {},
   "outputs": [
    {
     "data": {
      "application/vnd.code.notebook.stderr": [
       "2023-04-28 10:19:56.571 Python[21932:1323023] TSM AdjustCapsLockLEDForKeyTransitionHandling - _ISSetPhysicalKeyboardCapsLockLED Inhibit\n"
      ]
     },
     "output_type": "unknown"
    }
   ],
   "source": [
    "root = tk.Tk()\n",
    "root.title('my window')\n",
    "\n",
    "mylabel = tk.Label(root, text='Name:')\n",
    "mylabel.grid(row=0, column=0)\n",
    "myentry = tk.Entry(root)\n",
    "myentry.grid(row=0, column=1)\n",
    "\n",
    "mylabel2 = tk.Label(root, text='Password:')\n",
    "mylabel2.grid(row=1, column=0)\n",
    "myentry2 = tk.Entry(root, show='*')\n",
    "myentry2.grid(row=1, column=1)\n",
    "\n",
    "mybutton = tk.Button(root, text='Login')\n",
    "mybutton.grid(row=2, column=1)\n",
    "\n",
    "root.mainloop()"
   ]
  },
  {
   "cell_type": "markdown",
   "metadata": {},
   "source": [
    "## 下拉式選單"
   ]
  },
  {
   "cell_type": "code",
   "execution_count": 12,
   "metadata": {},
   "outputs": [],
   "source": [
    "import tkinter.ttk as ttk\n",
    " \n",
    "root = tk.Tk()\n",
    "root.title('my window')\n",
    "root.geometry('200x150')\n",
    "\n",
    "mycombobox = ttk.Combobox(root)\n",
    "mycombobox['values'] = ['apple','banana','cow','dog','egg']\n",
    "mycombobox.pack(pady=10)\n",
    "mycombobox.current(0)\n",
    "\n",
    "root.mainloop()"
   ]
  },
  {
   "cell_type": "markdown",
   "metadata": {},
   "source": [
    "## messagebox 訊息框"
   ]
  },
  {
   "cell_type": "code",
   "execution_count": null,
   "metadata": {},
   "outputs": [
    {
     "data": {
      "application/vnd.code.notebook.error": {
       "message": "Session cannot generate requests",
       "name": "Error",
       "stack": "Error: Session cannot generate requests\nat w.executeCodeCell (/Users/chenwenwei/.vscode/extensions/ms-toolsai.jupyter-2021.6.999662501/out/client/extension.js:90:328422)\nat w.execute (/Users/chenwenwei/.vscode/extensions/ms-toolsai.jupyter-2021.6.999662501/out/client/extension.js:90:327811)\nat w.start (/Users/chenwenwei/.vscode/extensions/ms-toolsai.jupyter-2021.6.999662501/out/client/extension.js:90:323627)\nat runMicrotasks (<anonymous>)\nat processTicksAndRejections (internal/process/task_queues.js:93:5)\nat async t.CellExecutionQueue.executeQueuedCells (/Users/chenwenwei/.vscode/extensions/ms-toolsai.jupyter-2021.6.999662501/out/client/extension.js:90:338053)\nat async t.CellExecutionQueue.start (/Users/chenwenwei/.vscode/extensions/ms-toolsai.jupyter-2021.6.999662501/out/client/extension.js:90:337593)"
      }
     },
     "output_type": "unknown"
    }
   ],
   "source": [
    "from tkinter import messagebox\n",
    "\n",
    "root = tk.Tk()\n",
    "root.withdraw()\n",
    "messagebox.showinfo('my messagebox', 'hello world')"
   ]
  },
  {
   "cell_type": "code",
   "execution_count": 5,
   "metadata": {},
   "outputs": [
    {
     "name": "stdout",
     "output_type": "stream",
     "text": [
      "    one  two\n",
      "a  1.40  NaN\n",
      "b  7.10 -4.5\n",
      "c   NaN  NaN\n",
      "d  0.75 -1.3\n"
     ]
    },
    {
     "data": {
      "text/html": [
       "<div>\n",
       "<style scoped>\n",
       "    .dataframe tbody tr th:only-of-type {\n",
       "        vertical-align: middle;\n",
       "    }\n",
       "\n",
       "    .dataframe tbody tr th {\n",
       "        vertical-align: top;\n",
       "    }\n",
       "\n",
       "    .dataframe thead th {\n",
       "        text-align: right;\n",
       "    }\n",
       "</style>\n",
       "<table border=\"1\" class=\"dataframe\">\n",
       "  <thead>\n",
       "    <tr style=\"text-align: right;\">\n",
       "      <th></th>\n",
       "      <th>one</th>\n",
       "      <th>two</th>\n",
       "    </tr>\n",
       "  </thead>\n",
       "  <tbody>\n",
       "    <tr>\n",
       "      <th>a</th>\n",
       "      <td>1.40</td>\n",
       "      <td>NaN</td>\n",
       "    </tr>\n",
       "    <tr>\n",
       "      <th>b</th>\n",
       "      <td>8.50</td>\n",
       "      <td>-4.5</td>\n",
       "    </tr>\n",
       "    <tr>\n",
       "      <th>c</th>\n",
       "      <td>NaN</td>\n",
       "      <td>NaN</td>\n",
       "    </tr>\n",
       "    <tr>\n",
       "      <th>d</th>\n",
       "      <td>9.25</td>\n",
       "      <td>-5.8</td>\n",
       "    </tr>\n",
       "  </tbody>\n",
       "</table>\n",
       "</div>"
      ],
      "text/plain": [
       "    one  two\n",
       "a  1.40  NaN\n",
       "b  8.50 -4.5\n",
       "c   NaN  NaN\n",
       "d  9.25 -5.8"
      ]
     },
     "execution_count": 5,
     "metadata": {},
     "output_type": "execute_result"
    }
   ],
   "source": [
    "import pandas as pd\n",
    "import numpy as np\n",
    "df = pd.DataFrame([[1.4, np.nan], [7.1, -4.5],[np.nan, np.nan], [0.75, -1.3]],index=[\"a\", \"b\", \"c\", \"d\"],columns=[\"one\", \"two\"])\n",
    "print(df)\n",
    "df.cumsum()"
   ]
  }
 ],
 "metadata": {
  "interpreter": {
   "hash": "aee8b7b246df8f9039afb4144a1f6fd8d2ca17a180786b69acc140d282b71a49"
  },
  "kernelspec": {
   "display_name": "Python 3.10.10 64-bit",
   "name": "python3"
  },
  "language_info": {
   "codemirror_mode": {
    "name": "ipython",
    "version": 3
   },
   "file_extension": ".py",
   "mimetype": "text/x-python",
   "name": "python",
   "nbconvert_exporter": "python",
   "pygments_lexer": "ipython3",
   "version": "3.10.10"
  },
  "orig_nbformat": 4
 },
 "nbformat": 4,
 "nbformat_minor": 2
}