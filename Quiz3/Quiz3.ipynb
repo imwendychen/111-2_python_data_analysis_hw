{
 "cells": [
  {
   "cell_type": "markdown",
   "id": "8b15baf3",
   "metadata": {},
   "source": [
    "# 小考"
   ]
  },
  {
   "cell_type": "code",
   "execution_count": 3,
   "id": "e9d2b561",
   "metadata": {},
   "outputs": [
    {
     "name": "stdout",
     "output_type": "stream",
     "text": [
      "第1個你要搜尋的人名 :Amy\n",
      "第2個你要搜尋的人名 :Jenny\n",
      "他們的共同興趣 : \n",
      "basketball \n",
      "最多人的共同興趣 : \n",
      "running\n"
     ]
    }
   ],
   "source": [
    "# 取dic的key\n",
    "def getKey(dict,value):\n",
    "    return [k for k,v in dict.items() if v == value]\n",
    "\n",
    "fd = open(\"habby.csv\",\"r\")\n",
    "Dictionay = {}\n",
    "for line in fd:\n",
    "    Name = [n for n in line.rstrip().split(',') if n != \"\"]\n",
    "    for next_line in fd:\n",
    "        habby = [k for k in next_line.rstrip().split(',') if k != \"\"]\n",
    "        break\n",
    "    Dictionay[Name[0]] = habby\n",
    "# 輸入搜尋的人名\n",
    "First_Name = input(\"第1個你要搜尋的人名 :\")\n",
    "Second_Name = input(\"第2個你要搜尋的人名 :\")\n",
    "if First_Name in Dictionay and Second_Name in Dictionay:\n",
    "    #都存在\n",
    "    Habby_dir = {}\n",
    "    Total_list = []\n",
    "    # 利用Set製作成共同興趣的List\n",
    "    commom = list(set(Dictionay[First_Name]) & set(Dictionay[Second_Name]))\n",
    "    if len(commom) == 0 :\n",
    "        print(\"他們的沒有共同興趣\")\n",
    "    else:    \n",
    "        print(\"他們的共同興趣 : \")\n",
    "        for x in commom:\n",
    "            print(x,end = ' ')\n",
    "        print(\"\\n最多人的共同興趣 : \")\n",
    "        for Name in Dictionay:\n",
    "            Total_list = Dictionay[Name] + Total_list\n",
    "        for key in Total_list:\n",
    "            Habby_dir[key] =  Habby_dir.get(key,0) + 1\n",
    "        Max = 0\n",
    "        for Name in Habby_dir:\n",
    "            if Habby_dir[Name] > Max:\n",
    "                Max = Habby_dir[Name]\n",
    "        # 輸出所有人最多的共同興趣\n",
    "        print(getKey(Habby_dir,Max)[0])\n",
    "else:\n",
    "    print(\"搜尋某一人名不存在\")\n",
    "fd.close()"
   ]
  },
  {
   "cell_type": "code",
   "execution_count": null,
   "id": "75a1d609",
   "metadata": {},
   "outputs": [],
   "source": []
  }
 ],
 "metadata": {
  "kernelspec": {
   "display_name": "Python 3 (ipykernel)",
   "language": "python",
   "name": "python3"
  },
  "language_info": {
   "codemirror_mode": {
    "name": "ipython",
    "version": 3
   },
   "file_extension": ".py",
   "mimetype": "text/x-python",
   "name": "python",
   "nbconvert_exporter": "python",
   "pygments_lexer": "ipython3",
   "version": "3.9.13"
  }
 },
 "nbformat": 4,
 "nbformat_minor": 5
}
