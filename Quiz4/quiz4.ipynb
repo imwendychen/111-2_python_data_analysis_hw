{
 "cells": [
  {
   "attachments": {},
   "cell_type": "markdown",
   "id": "cb0f4ebd",
   "metadata": {},
   "source": [
    "Quiz 4"
   ]
  },
  {
   "cell_type": "code",
   "execution_count": 1,
   "id": "2941641d",
   "metadata": {
    "scrolled": false
   },
   "outputs": [
    {
     "name": "stdout",
     "output_type": "stream",
     "text": [
      "             Open   High    Low  Close  Amount\n",
      "Date                                          \n",
      "2011/8/5    55.70  55.70  54.45  54.45   93525\n",
      "2011/8/8    54.30  54.65  51.40  53.50   88159\n",
      "2018/10/11  80.15  80.15  77.35  77.40   68552\n",
      "2020/3/19   71.00  71.00  67.25  68.55   68038\n",
      "2011/9/23   50.50  50.85  49.93  50.35   64026\n",
      "...           ...    ...    ...    ...     ...\n",
      "2019/10/21  87.95  88.00  87.75  87.85    1078\n",
      "2017/10/24  84.50  84.50  84.20  84.40    1072\n",
      "2017/11/24  85.25  85.30  84.95  85.15    1069\n",
      "2017/11/14  84.30  84.30  83.95  84.15    1016\n",
      "2017/11/8   85.20  85.20  84.95  84.95     810\n",
      "\n",
      "[1122 rows x 5 columns]\n",
      "[[   55    55    54    54 93525]\n",
      " [   54    54    51    53 88159]\n",
      " [   80    80    77    77 68552]]\n"
     ]
    }
   ],
   "source": [
    "import pandas as pd\n",
    "import numpy as np\n",
    "\n",
    "table = pd.read_csv('./0050.csv', index_col='Date')\n",
    "\n",
    "table = table[(table['Open']>table['Close'])]\n",
    "table.sort_values(['Amount','Open'], inplace=True, ascending=False)\n",
    "print(table)\n",
    "ans = table.head(3).to_numpy(dtype='i4')\n",
    "print(ans)"
   ]
  }
 ],
 "metadata": {
  "kernelspec": {
   "display_name": "Python 3 (ipykernel)",
   "language": "python",
   "name": "python3"
  },
  "language_info": {
   "codemirror_mode": {
    "name": "ipython",
    "version": 3
   },
   "file_extension": ".py",
   "mimetype": "text/x-python",
   "name": "python",
   "nbconvert_exporter": "python",
   "pygments_lexer": "ipython3",
   "version": "3.9.12"
  }
 },
 "nbformat": 4,
 "nbformat_minor": 5
}
