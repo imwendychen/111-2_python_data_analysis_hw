{
 "cells": [
  {
   "cell_type": "code",
   "execution_count": 10,
   "id": "37a62f5a",
   "metadata": {},
   "outputs": [
    {
     "name": "stdout",
     "output_type": "stream",
     "text": [
      "輸入n的數字：20\n",
      "輸入m的數字：8\n",
      "[2, 3, 5, 7, 11, 13, 17, 19]\n",
      "[(2, 3), (2, 5), (2, 7), (3, 5), (3, 7), (5, 7), (5, 11), (7, 11), (7, 13), (11, 13), (11, 17), (13, 17), (13, 19), (17, 19)]\n"
     ]
    }
   ],
   "source": [
    "def find_primes(n):\n",
    "    \"\"\"找出 1 到 n 内的所有质数，并返回一个包含所有质数的列表\"\"\"\n",
    "    primes = []\n",
    "    for num in range(2, n + 1):\n",
    "        if is_prime(num):\n",
    "            primes.append(num)\n",
    "    return primes\n",
    "def is_prime(n):\n",
    "    \"\"\"判断一个数是否为质数，并将质数添加到 prime_list\"\"\"\n",
    "    if n < 2:\n",
    "        return False\n",
    "    for i in range(2, int(n ** 0.5) + 1):\n",
    "        if n % i == 0:\n",
    "            return False\n",
    "    prime_list.append(n)\n",
    "    \n",
    "    return True\n",
    "\n",
    "def generate_prime_pairs(n, m):\n",
    "    \"\"\"生成1到n之間所有符合條件的質數對 (p, q)，其中 p < q 且 q - p < m\"\"\"\n",
    "    primes = [i for i in range(2, n+1) if is_prime(i)]\n",
    "    pairs = [(p, q) for p in primes for q in primes if p < q and q - p < m]\n",
    "    return pairs\n",
    "\n",
    "def generate_list(n, m):\n",
    "    \"\"\"生成包含1到n之間所有符合條件的質數對中的所有質數的列表\"\"\"\n",
    "    pairs = generate_prime_pairs(n, m)\n",
    "    primes = set()\n",
    "    for p, q in pairs:\n",
    "        primes.add(p)\n",
    "        primes.add(q)\n",
    "    return sorted(list(primes))\n",
    "\n",
    "n = int(input(\"輸入n的數字：\"))\n",
    "m = int(input(\"輸入m的數字：\"))\n",
    "\n",
    "\n",
    "print(find_primes(n))\n",
    "print(generate_prime_pairs(n, m))"
   ]
  },
  {
   "cell_type": "code",
   "execution_count": null,
   "id": "fd62278a",
   "metadata": {},
   "outputs": [],
   "source": []
  }
 ],
 "metadata": {
  "kernelspec": {
   "display_name": "Python 3 (ipykernel)",
   "language": "python",
   "name": "python3"
  },
  "language_info": {
   "codemirror_mode": {
    "name": "ipython",
    "version": 3
   },
   "file_extension": ".py",
   "mimetype": "text/x-python",
   "name": "python",
   "nbconvert_exporter": "python",
   "pygments_lexer": "ipython3",
   "version": "3.10.9"
  }
 },
 "nbformat": 4,
 "nbformat_minor": 5
}
