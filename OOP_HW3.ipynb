{
 "cells": [
  {
   "cell_type": "code",
   "execution_count": 5,
   "metadata": {},
   "outputs": [
    {
     "name": "stdout",
     "output_type": "stream",
     "text": [
      "Enter a word or an integer>Anns\n",
      "The answer of Anns is not a pandrome.\n"
     ]
    }
   ],
   "source": [
    "#q1\n",
    "#Write a program that allows user to enter parameter and you need to create a function named is_ palindrome() \n",
    "#to check the parameter whether the input is a palindrome. The program should interact with the user as follows:\n",
    "def is_palindrome(paramtr):\n",
    "    j=0\n",
    "    n = len(paramtr)-1\n",
    "    for i in range(0,n//2+1):\n",
    "        if(paramtr[i]!=paramtr[n-i]):\n",
    "            j+=1\n",
    "        else:\n",
    "            j=j\n",
    "    if(j>0):\n",
    "        print(\"The answer of\",paramtr,\"is not a pandrome.\")\n",
    "    else:\n",
    "        print(\"The answer of\",paramtr,\"is a pandrome.\")\n",
    "              \n",
    "inp = input(\"Enter a word or an integer>\")\n",
    "is_palindrome(inp)\n"
   ]
  },
  {
   "cell_type": "code",
   "execution_count": 7,
   "metadata": {},
   "outputs": [
    {
     "name": "stdout",
     "output_type": "stream",
     "text": [
      "Enter the integer(must>3)>11\n",
      "The answer is: 89\n"
     ]
    }
   ],
   "source": [
    "#q2\n",
    "#The Fibonacci numbers are sequence of integer sequences (0,1, 1, 2, 3, 5, 8, 13, 21, 34.......).\n",
    "#Write a program that allows user to enter the integer N (must larger than three), \n",
    "#you need to create a function named Fibonacci() to Find the Nth number of a sequence of integers \n",
    "#and print out the answer. The program should interact with the user as follows:\n",
    "#(Note: F0=0, F1=1, Fn= Fn-1+Fn-2 (n≥2))\n",
    "\n",
    "def fibonacci(index):\n",
    "    f0 = 0\n",
    "    f1 = 1\n",
    "    if(index==0):\n",
    "        return 0\n",
    "    elif(index==1):\n",
    "        return 1\n",
    "    else:\n",
    "        number = fibonacci(index-1)+fibonacci(index-2)\n",
    "        return number\n",
    "    \n",
    "ind = int(input(\"Enter the integer(must>3)>\"))\n",
    "print(\"The answer is:\",fibonacci(ind))\n",
    "\n",
    "\n",
    "\n"
   ]
  },
  {
   "cell_type": "code",
   "execution_count": 8,
   "metadata": {},
   "outputs": [
    {
     "name": "stdout",
     "output_type": "stream",
     "text": [
      "Enter the integer(must>1)>2345\n",
      "Largest prime factor: 67 \n",
      "Smallest prime factor: 5 \n",
      "\n"
     ]
    }
   ],
   "source": [
    "#q3\n",
    "#Write a program that requests a positive integer larger than 1 as input and print out \n",
    "#the largest and smallest prime factors of the number. You need to write function named prime() \n",
    "#to finish this homework. The program should interact with the user as follows:\n",
    "def prime(number):\n",
    "    prime=[]\n",
    "    i=2\n",
    "    j=1\n",
    "    for i in range(2,number+1):\n",
    "        prime.append(i)\n",
    "        for j in range(1,number+1):\n",
    "            x=i/j\n",
    "            if ((x == int(x))&(x!=i)&(x!=1)):\n",
    "                prime.remove(i)\n",
    "                break\n",
    "            j+=1\n",
    "        i+=1\n",
    "    n1 = len(prime)\n",
    "    factor=[]\n",
    "    for i in range(n1):\n",
    "        if(number%prime[i]==0):\n",
    "            factor.append(prime[i])\n",
    "    factor = sorted(factor)\n",
    "    n2 = len(factor)\n",
    "    return print(\"Largest prime factor:\",factor[n2-1],\"\\nSmallest prime factor:\",factor[0],\"\\n\")\n",
    "\n",
    "number = int(input(\"Enter the integer(must larger than 1)>\"))\n",
    "prime(number)"
   ]
  },
  {
   "cell_type": "code",
   "execution_count": 11,
   "metadata": {},
   "outputs": [
    {
     "name": "stdout",
     "output_type": "stream",
     "text": [
      "Enter the word>aabbccdd\n",
      "the most character and times is: [['a', 2], ['b', 2], ['c', 2], ['d', 2]]\n"
     ]
    }
   ],
   "source": [
    "#q4\n",
    "#Write a program to allows user to enter the text, and you should create the function named most_common_character(). \n",
    "#Find the character that appears the most times in the input text and print out the times. \n",
    "#The program should interact with the user as follows:\n",
    "def most_common_character(string):\n",
    "    k=0\n",
    "    maxlist=[]\n",
    "    a=set(string)\n",
    "    string1=tuple(a)\n",
    "    string1=sorted(string1)\n",
    "\n",
    "    for i in range(0,(len(string1)*2)-1,2):\n",
    "        string1.insert(i+1,'0')\n",
    "    for i in range(len(string1)):\n",
    "        k=0\n",
    "        for j in range(len(string)):\n",
    "            if(string[j]==string1[i]):\n",
    "                k+=1\n",
    "                string1[i+1]=k\n",
    "            else:\n",
    "                k=k\n",
    "    max = string1[1]\n",
    "    for h in range(1,len(string1),2):\n",
    "        if(string1[h]>max):\n",
    "            max=string1[h]\n",
    "            maxlist=[]\n",
    "            temp = [string1[h-1],string1[h]]\n",
    "            maxlist.append(temp)\n",
    "        elif(string1[h]==max):\n",
    "            tmp = [string1[h-1],string1[h]]\n",
    "            maxlist.append(tmp) \n",
    "    return(maxlist)\n",
    "    \n",
    "word = input(\"Enter the word>\")\n",
    "print(\"The most character and times is:\",most_common_character(word))"
   ]
  },
  {
   "cell_type": "code",
   "execution_count": 12,
   "metadata": {},
   "outputs": [
    {
     "name": "stdout",
     "output_type": "stream",
     "text": [
      "Enter the numbers>5 2 9 1 5 6\n",
      "The answer of merge sort: ['1', '2', '5', '5', '6', '9'] ,time is: 0.000019 s\n",
      "The answer of bubble sort: ['1', '2', '5', '5', '6', '9'] ,time is: 0.000007 s\n"
     ]
    }
   ],
   "source": [
    "#q5\n",
    "#Enter some numbers separated by spaces, then you need to create function named merge_sort() and bubble_sort() \n",
    "#to sort the input number. Final, you should list the time spent in the sort function.\n",
    "#The program should interact with the user as follows:\n",
    "\n",
    "import time\n",
    "a = len(k)\n",
    "def merge_sort(array):\n",
    "    start = time.time()\n",
    "    if len(array) > 1:\n",
    "        #將串列從中間分成左右兩個子串列\n",
    "        m = len(array) // 2\n",
    "        left = array[:m]\n",
    "        right = array[m:]\n",
    "\n",
    "        merge_sort(left)#左邊一直分裂到只有一個元素\n",
    "        merge_sort(right)#右邊也是\n",
    "\n",
    "        i = 0\n",
    "        j = 0\n",
    "        k = 0\n",
    "        \n",
    "        #左右邊的子串列長度皆大於〇，同時比較這兩個子串列最左邊的元素，哪個比較小就將它加入最終結果的array\n",
    "        while i < len(left) and j < len(right):\n",
    "            if left[i] <= right[j]:\n",
    "                array[k] = left[i]\n",
    "                i += 1\n",
    "            else:\n",
    "                array[k] = right[j]\n",
    "                j += 1\n",
    "            k += 1\n",
    "        #左邊的子串列長度大於〇，右邊沒有，將該串列最左（最小的元素）加入最終結果的array\n",
    "        while i < len(left):\n",
    "            array[k] = left[i]\n",
    "            i += 1\n",
    "            k += 1\n",
    "        #右邊同上\n",
    "        while j < len(right):\n",
    "            array[k]=right[j]\n",
    "            j += 1\n",
    "            k += 1 \n",
    "    if (len(array)==a):\n",
    "        elapsed = time.time()-start\n",
    "        print(\"The answer of merge sort:\",array,\",time is:\",\"%.6f\"%(elapsed),\"s\")\n",
    "\n",
    "#以最左邊的元素為準，若比他右邊的元素大，那就兩個元素交換位置，直到無法交換為止。每個元素都要跟其他元素作比較，\n",
    "#故需要兩個for loop \n",
    "def bubble_sort(array):\n",
    "    start=time.time()\n",
    "    num = len(array)\n",
    "    for i in range(num-2):                  \n",
    "        for j in range(num-i-1):             \n",
    "            if array[j] > array[j+1]:        \n",
    "                array[j], array[j+1] = array[j+1], array[j]\n",
    "    elapsed = time.time()-start\n",
    "    print(\"The answer of bubble sort:\",array,\",time is:\",\"%.6f\"%(elapsed),\"s\")\n",
    "\n",
    "numbers = input(\"Enter the numbers>\")\n",
    "numbers = numbers.split()\n",
    "k=numbers\n",
    "merge_sort(k)\n",
    "bubble_sort(numbers)\n"
   ]
  },
  {
   "cell_type": "code",
   "execution_count": null,
   "metadata": {},
   "outputs": [],
   "source": []
  },
  {
   "cell_type": "code",
   "execution_count": null,
   "metadata": {},
   "outputs": [],
   "source": []
  }
 ],
 "metadata": {
  "kernelspec": {
   "display_name": "Python 3",
   "language": "python",
   "name": "python3"
  },
  "language_info": {
   "codemirror_mode": {
    "name": "ipython",
    "version": 3
   },
   "file_extension": ".py",
   "mimetype": "text/x-python",
   "name": "python",
   "nbconvert_exporter": "python",
   "pygments_lexer": "ipython3",
   "version": "3.8.3"
  }
 },
 "nbformat": 4,
 "nbformat_minor": 4
}
